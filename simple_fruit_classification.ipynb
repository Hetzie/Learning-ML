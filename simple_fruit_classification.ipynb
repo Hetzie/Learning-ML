{
 "cells": [
  {
   "cell_type": "code",
   "execution_count": 1,
   "metadata": {},
   "outputs": [],
   "source": [
    "import tensorflow as tf\n",
    "from tensorflow.keras import Sequential\n",
    "import os\n",
    "import matplotlib.pyplot as plt\n",
    "import pandas as pd"
   ]
  },
  {
   "cell_type": "code",
   "execution_count": 2,
   "metadata": {},
   "outputs": [],
   "source": [
    "def load_images_from_folder(folder,only_path = False, label = \"\"):\n",
    "# Load the paths to the images in a directory\n",
    "# or load the images\n",
    "    if only_path == False:\n",
    "        images = []\n",
    "        for filename in os.listdir(folder):\n",
    "            img = plt.imread(os.path.join(folder,filename))\n",
    "            if img is not None:\n",
    "                images.append(img)\n",
    "        return images\n",
    "    else:\n",
    "        path = []\n",
    "        for filename in os.listdir(folder):\n",
    "            img_path = os.path.join(folder,filename)\n",
    "            if img_path is not None:\n",
    "                path.append([label,img_path])\n",
    "        return path"
   ]
  },
  {
   "cell_type": "code",
   "execution_count": 30,
   "metadata": {},
   "outputs": [
    {
     "name": "stdout",
     "output_type": "stream",
     "text": [
      "   fruit                                         path\n",
      "0  Apple   fruit_reco_dataset/train/Apple/apple_1.jpg\n",
      "1  Apple  fruit_reco_dataset/train/Apple/apple_10.jpg\n",
      "2  Apple  fruit_reco_dataset/train/Apple/apple_11.jpg\n",
      "3  Apple  fruit_reco_dataset/train/Apple/apple_12.jpg\n",
      "4  Apple  fruit_reco_dataset/train/Apple/apple_13.jpg\n"
     ]
    }
   ],
   "source": [
    "images = []\n",
    "dirp = \"fruit_reco_dataset/train/\"\n",
    "for f in os.listdir(dirp):\n",
    "    if \"jpg\" in os.listdir(dirp+f)[0]:\n",
    "        images += load_images_from_folder(dirp+f,True,label = f)\n",
    "    else:\n",
    "        for d in os.listdir(dirp+f):\n",
    "            images += load_images_from_folder(dirp+f+\"/\"+d,True,label = f)\n",
    "\n",
    "# Create a dataframe with the paths and the label for each fruit\n",
    "df = pd.DataFrame(images, columns = [\"fruit\", \"path\"])\n",
    "\n",
    "l = []\n",
    "for i in df['path'].values:\n",
    "    i = i.replace(\"\\\\\",\"/\")\n",
    "    l.append(i)\n",
    "\n",
    "df[\"path\"] = l\n",
    "\n",
    "print(df.head())\n"
   ]
  }
 ],
 "metadata": {
  "kernelspec": {
   "display_name": "Python 3",
   "language": "python",
   "name": "python3"
  },
  "language_info": {
   "codemirror_mode": {
    "name": "ipython",
    "version": 3
   },
   "file_extension": ".py",
   "mimetype": "text/x-python",
   "name": "python",
   "nbconvert_exporter": "python",
   "pygments_lexer": "ipython3",
   "version": "3.9.11"
  },
  "orig_nbformat": 4
 },
 "nbformat": 4,
 "nbformat_minor": 2
}
