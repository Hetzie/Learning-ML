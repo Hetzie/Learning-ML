{
 "cells": [
  {
   "cell_type": "code",
   "execution_count": 1,
   "metadata": {},
   "outputs": [],
   "source": [
    "import ffmpeg, os"
   ]
  },
  {
   "cell_type": "code",
   "execution_count": null,
   "metadata": {},
   "outputs": [],
   "source": [
    "print(\"This takes mp4 files from ./video and converts them into mp3 files in ./png\")\n",
    "print(\"\\nyou are here:\\n\")\n",
    "current_directory = os.getcwd()\n",
    "print(current_directory + \"\\n\")"
   ]
  },
  {
   "cell_type": "code",
   "execution_count": null,
   "metadata": {},
   "outputs": [],
   "source": [
    "# print all the files available in current dir\n",
    "current_directory = os.getcwd()\n",
    "print(current_directory + \"\\n\")\n",
    "print(\"files available are:\\n\")\n",
    "for root, dirs, files in os.walk(current_directory):      \n",
    "    for file in files:\n",
    "        print(os.path.join(root, file))"
   ]
  },
  {
   "cell_type": "code",
   "execution_count": null,
   "metadata": {},
   "outputs": [],
   "source": [
    "print(\"files available are:\\n\")\n",
    "for root, dirs, files in os.walk(current_directory):      \n",
    "    for file in files:\n",
    "        print(os.path.join(root, file))\n",
    "input('\\nHit enter when ready or CRTL-c to escape...\\n')\n",
    "print('running...\\n')"
   ]
  },
  {
   "cell_type": "code",
   "execution_count": null,
   "metadata": {},
   "outputs": [],
   "source": [
    "filename = \"example_vid.mp4\"\n",
    "namepart, extension = os.path.splitext(filename)\n",
    "print(filename)\n",
    "print(namepart)\n",
    "print(extension)"
   ]
  },
  {
   "cell_type": "code",
   "execution_count": 2,
   "metadata": {},
   "outputs": [
    {
     "name": "stdout",
     "output_type": "stream",
     "text": [
      "Could not read the frame.\n"
     ]
    }
   ],
   "source": [
    "import cv2\n",
    "\n",
    "video_capture = cv2.VideoCapture(\"./example_vid.mp4\")\n",
    "video_capture.set(cv2.CAP_PROP_FPS, 0.01)\n",
    "\n",
    "saved_frame_name = 0\n",
    "\n",
    "while video_capture.isOpened():\n",
    "    frame_is_read, frame = video_capture.read()\n",
    "\n",
    "    if frame_is_read:\n",
    "        cv2.imwrite(f\"frame{str(saved_frame_name)}.jpg\", frame)\n",
    "        saved_frame_name += 1\n",
    "\n",
    "    else:\n",
    "        print(\"Could not read the frame.\")\n",
    "        break"
   ]
  },
  {
   "cell_type": "code",
   "execution_count": 27,
   "metadata": {},
   "outputs": [],
   "source": [
    "import subprocess\n",
    "import os\n",
    "\n",
    "def convert_video_to_frames(video_path, output_directory):\n",
    "    # Create the output directory if it doesn't exist\n",
    "    os.makedirs(output_directory, exist_ok=True)\n",
    "\n",
    "    # Full path to the FFmpeg executable\n",
    "    ffmpeg_path = r\"C:/ffmpeg/bin/ffmpeg.exe\"\n",
    "\n",
    "    # Use FFmpeg to convert the video to frames\n",
    "    subprocess.run([ffmpeg_path, \"-i\", video_path, \"-vf\", \"fps=1\", f\"{output_directory}/frame-%d.png\"])\n",
    "\n",
    "# Example usage\n",
    "video_path = \"D:/Learn/Learning-ML/Labeling task/example_vid.mp4\"\n",
    "output_directory = r\"D:/Learn/Learning-ML/Labeling task/output\"  # Replace with the actual output directory path\n",
    "convert_video_to_frames(video_path, output_directory)\n",
    "\n"
   ]
  }
 ],
 "metadata": {
  "kernelspec": {
   "display_name": "Python 3",
   "language": "python",
   "name": "python3"
  },
  "language_info": {
   "codemirror_mode": {
    "name": "ipython",
    "version": 3
   },
   "file_extension": ".py",
   "mimetype": "text/x-python",
   "name": "python",
   "nbconvert_exporter": "python",
   "pygments_lexer": "ipython3",
   "version": "3.9.13"
  },
  "orig_nbformat": 4
 },
 "nbformat": 4,
 "nbformat_minor": 2
}
