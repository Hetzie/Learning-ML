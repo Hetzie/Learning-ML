{
 "cells": [
  {
   "cell_type": "code",
   "execution_count": null,
   "metadata": {},
   "outputs": [],
   "source": [
    "import ffmpeg, os"
   ]
  },
  {
   "cell_type": "code",
   "execution_count": null,
   "metadata": {},
   "outputs": [],
   "source": [
    "print(\"This takes mp4 files from ./video and converts them into mp3 files in ./png\")\n",
    "print(\"\\nyou are here:\\n\")\n",
    "current_directory = os.getcwd()\n",
    "print(current_directory + \"\\n\")"
   ]
  },
  {
   "cell_type": "code",
   "execution_count": null,
   "metadata": {},
   "outputs": [],
   "source": [
    "# print all the files available in current dir\n",
    "current_directory = os.getcwd()\n",
    "print(current_directory + \"\\n\")\n",
    "print(\"files available are:\\n\")\n",
    "for root, dirs, files in os.walk(current_directory):      \n",
    "    for file in files:\n",
    "        print(os.path.join(root, file))"
   ]
  },
  {
   "cell_type": "code",
   "execution_count": null,
   "metadata": {},
   "outputs": [],
   "source": [
    "print(\"files available are:\\n\")\n",
    "for root, dirs, files in os.walk(current_directory):      \n",
    "    for file in files:\n",
    "        print(os.path.join(root, file))\n",
    "input('\\nHit enter when ready or CRTL-c to escape...\\n')\n",
    "print('running...\\n')"
   ]
  },
  {
   "cell_type": "code",
   "execution_count": null,
   "metadata": {},
   "outputs": [],
   "source": [
    "filename = \"example_vid.mp4\"\n",
    "namepart, extension = os.path.splitext(filename)\n",
    "print(filename)\n",
    "print(namepart)\n",
    "print(extension)"
   ]
  },
  {
   "cell_type": "code",
   "execution_count": null,
   "metadata": {},
   "outputs": [],
   "source": [
    "ffmpeg.input('./example_vid.mp4').filter('fps', fps='1').output('./test-%d.jpg', \n",
    "        start_number=0).overwrite_output().run(quiet=True)"
   ]
  },
  {
   "cell_type": "code",
   "execution_count": null,
   "metadata": {},
   "outputs": [],
   "source": [
    "import cv2\n",
    "\n",
    "video_capture = cv2.VideoCapture(\"./example_vid.mp4\")\n",
    "video_capture.set(cv2.CAP_PROP_FPS, 0.01)\n",
    "\n",
    "saved_frame_name = 0\n",
    "\n",
    "while video_capture.isOpened():\n",
    "    frame_is_read, frame = video_capture.read()\n",
    "\n",
    "    if frame_is_read:\n",
    "        cv2.imwrite(f\"frame{str(saved_frame_name)}.jpg\", frame)\n",
    "        saved_frame_name += 1\n",
    "\n",
    "    else:\n",
    "        print(\"Could not read the frame.\")\n",
    "        break"
   ]
  },
  {
   "cell_type": "code",
   "execution_count": null,
   "metadata": {},
   "outputs": [],
   "source": [
    "import numpy as np\n",
    "def extract_frame(input_vid, frame_num):\n",
    "    out, _ = (\n",
    "        ffmpeg\n",
    "        .input(input_vid)\n",
    "        .filter_('select', 'gte(n,{})'.format(frame_num))\n",
    "        .output('pipe:', format='rawvideo', pix_fmt='gray16le', vframes=1)\n",
    "        .run(capture_stdout=True, capture_stderr=True)\n",
    "    )\n",
    "    return np.frombuffer(out, np.uint16).reshape(-1, 20, 20, 2)\n",
    "video_path = 'D:\\Hetvi\\Learning-ML\\Labeling task\\example_vid.mp4'\n",
    "for i in range(50):\n",
    "    frame = extract_frame(video_path,i)\n",
    "\n",
    "# FileNotFoundError: [WinError 2] The system cannot find the file specified"
   ]
  },
  {
   "cell_type": "code",
   "execution_count": null,
   "metadata": {},
   "outputs": [],
   "source": [
    "for filename in os.listdir('.'):\n",
    "    if (filename.endswith(\".mp4\")): #or .avi, .mpeg, whatever.\n",
    "        print(filename)\n",
    "        os.system(\"ffmpeg -i {0} -vf fps=1 out%d.png\".format(filename))\n",
    "    else:\n",
    "        continue"
   ]
  },
  {
   "cell_type": "code",
   "execution_count": null,
   "metadata": {},
   "outputs": [],
   "source": []
  }
 ],
 "metadata": {
  "kernelspec": {
   "display_name": "Python 3",
   "language": "python",
   "name": "python3"
  },
  "language_info": {
   "codemirror_mode": {
    "name": "ipython",
    "version": 3
   },
   "file_extension": ".py",
   "mimetype": "text/x-python",
   "name": "python",
   "nbconvert_exporter": "python",
   "pygments_lexer": "ipython3",
   "version": "3.9.11"
  },
  "orig_nbformat": 4
 },
 "nbformat": 4,
 "nbformat_minor": 2
}
