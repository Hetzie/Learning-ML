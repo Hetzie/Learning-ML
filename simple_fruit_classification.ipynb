{
 "cells": [
  {
   "cell_type": "code",
   "execution_count": null,
   "metadata": {},
   "outputs": [],
   "source": [
    "import tensorflow as tf\n",
    "from keras import Sequential\n",
    "from keras.layers import Activation, Dropout, Flatten, Dense, Conv2D, MaxPooling2D\n",
    "from keras.utils import to_categorical\n",
    "import os\n",
    "import matplotlib.pyplot as plt\n",
    "import pandas as pd\n",
    "import cv2\n",
    "import numpy as np\n",
    "from sklearn.model_selection import train_test_split\n"
   ]
  },
  {
   "cell_type": "code",
   "execution_count": null,
   "metadata": {},
   "outputs": [],
   "source": [
    "def load_images_from_folder(folder,only_path = False, label = \"\"):\n",
    "# Load the paths to the images in a directory\n",
    "# or load the images\n",
    "    if only_path == False:\n",
    "        images = []\n",
    "        for filename in os.listdir(folder):\n",
    "            img = plt.imread(os.path.join(folder,filename))\n",
    "            if img is not None:\n",
    "                images.append(img)\n",
    "        return images\n",
    "    else:\n",
    "        path = []\n",
    "        for filename in os.listdir(folder):\n",
    "            img_path = os.path.join(folder,filename)\n",
    "            if img_path is not None:\n",
    "                path.append([label,img_path])\n",
    "        return path"
   ]
  },
  {
   "cell_type": "code",
   "execution_count": null,
   "metadata": {},
   "outputs": [],
   "source": [
    "images = []\n",
    "dirp = \"fruit_reco_dataset/train/\"\n",
    "for f in os.listdir(dirp):\n",
    "    if \"jpg\" in os.listdir(dirp+f)[0]:\n",
    "        images += load_images_from_folder(dirp+f,True,label = f)\n",
    "    else:\n",
    "        for d in os.listdir(dirp+f):\n",
    "            images += load_images_from_folder(dirp+f+\"/\"+d,True,label = f)\n",
    "test_list = []\n",
    "test = \"fruit_reco_dataset/test/\"\n",
    "for f in os.listdir(dirp):\n",
    "    if \"jpg\" in os.listdir(dirp+f)[0]:\n",
    "        test_list += load_images_from_folder(dirp+f,True,label = f)\n",
    "    else:\n",
    "        for d in os.listdir(dirp+f):\n",
    "            test_list += load_images_from_folder(dirp+f+\"/\"+d,True,label = f)\n",
    "\n",
    "# Create a dataframe with the paths and the label for each fruit\n",
    "\n",
    "df = pd.DataFrame(images, columns = [\"fruit\", \"path\"])\n",
    "\n",
    "l = []\n",
    "for i in df['path'].values:\n",
    "    i = i.replace(\"\\\\\",\"/\")\n",
    "    l.append(i)\n",
    "\n",
    "df[\"path\"] = l\n",
    "\n",
    "print(df.head())"
   ]
  },
  {
   "cell_type": "code",
   "execution_count": null,
   "metadata": {},
   "outputs": [],
   "source": [
    "fruit_names = sorted(df.fruit.unique())\n",
    "mapper_fruit_names = dict(zip(fruit_names, [t for t in range(len(fruit_names))]))\n",
    "df[\"label\"] = df[\"fruit\"].map(mapper_fruit_names)\n",
    "print(mapper_fruit_names)"
   ]
  },
  {
   "cell_type": "code",
   "execution_count": null,
   "metadata": {},
   "outputs": [],
   "source": [
    "def load_img(df):\n",
    "    img_paths = df[\"path\"].values\n",
    "    img_labels = df[\"label\"].values\n",
    "    X = []\n",
    "    y = []\n",
    "    z = []\n",
    "\n",
    "    for i,path in enumerate(img_paths):\n",
    "        img = plt.imread(path)\n",
    "        gray_image = cv2.cvtColor(img, cv2.COLOR_RGB2GRAY)\n",
    "        gray_image = cv2.resize(gray_image, (150,150))\n",
    "        label = img_labels[i]\n",
    "        X.append(gray_image)\n",
    "        y.append(label)\n",
    "        z.append(img_paths[i])\n",
    "    return np.array(X),np.array(y), np.array(z)"
   ]
  },
  {
   "cell_type": "code",
   "execution_count": null,
   "metadata": {},
   "outputs": [],
   "source": [
    "def create_model():\n",
    "    shape_img = (150,150,1)\n",
    "\n",
    "    model = Sequential()\n",
    "\n",
    "    model.add(Conv2D(filters=32, kernel_size=(3,3),input_shape=shape_img, activation='relu', padding = 'same'))\n",
    "    model.add(MaxPooling2D(pool_size=(2, 2)))\n",
    "\n",
    "    model.add(Conv2D(filters=64, kernel_size=(3,3),input_shape=shape_img, activation='relu', padding = 'same'))\n",
    "    model.add(MaxPooling2D(pool_size=(2, 2)))\n",
    "\n",
    "    model.add(Flatten())\n",
    "\n",
    "    model.add(Dense(256))\n",
    "    model.add(Activation('relu'))\n",
    "    model.add(Dropout(0.5))\n",
    "\n",
    "    model.add(Dense(len(mapper_fruit_names)))\n",
    "    model.add(Activation('softmax'))\n",
    "\n",
    "    model.compile(loss='categorical_crossentropy',optimizer='adam',metrics=['accuracy'])\n",
    "\n",
    "    return model"
   ]
  },
  {
   "cell_type": "code",
   "execution_count": null,
   "metadata": {},
   "outputs": [],
   "source": [
    "def cut_df(df, number_of_parts, part):\n",
    "\n",
    "    if part < 1:\n",
    "        print(\"Error, the part should be at least 1\")\n",
    "    elif part > number_of_parts:\n",
    "        print(\"Error, the part cannot be higher than the number_of_parts\")\n",
    "\n",
    "    number_imgs_each_part = int(df.shape[0]/number_of_parts)\n",
    "    idx1 = (part-1) * number_imgs_each_part\n",
    "    idx2 = part * number_imgs_each_part\n",
    "    return df.iloc[idx1:idx2]"
   ]
  },
  {
   "cell_type": "code",
   "execution_count": null,
   "metadata": {},
   "outputs": [],
   "source": [
    "model = create_model()\n",
    "hists = []\n",
    "\n",
    "X_train, y_train, z_train = load_img(df)\n",
    "y_train = to_categorical(y_train)\n",
    "\n",
    "model.fit(X_train, y_train, batch_size=128, epochs=50, validation_split = 0.1, verbose = 1)"
   ]
  },
  {
   "cell_type": "code",
   "execution_count": null,
   "metadata": {},
   "outputs": [],
   "source": [
    "test_df = pd.DataFrame(test_list, columns = [\"fruit\", \"path\"])\n",
    "test_df[\"label\"] = test_df[\"fruit\"].map(mapper_fruit_names)\n",
    "\n",
    "\n",
    "l = []\n",
    "for i in test_df['path'].values:\n",
    "    i = i.replace(\"\\\\\",\"/\")\n",
    "    l.append(i)\n",
    "\n",
    "test_df[\"path\"] = l\n",
    "test_df.head(100)"
   ]
  },
  {
   "cell_type": "code",
   "execution_count": null,
   "metadata": {},
   "outputs": [],
   "source": [
    "# train_df,test_df = train_test_split(test_df[['path','fruit']].sample(frac=0.05,random_state=0), test_size=0.2,random_state=0)\n",
    "from matplotlib import pyplot as plt\n",
    "import random\n",
    "\n",
    "fig = plt.figure(figsize=(20, 30))\n",
    "\n",
    "X, y, z = load_img(test_df)\n",
    "pred = np.argmax(model.predict(X),axis=1)\n",
    "\n",
    "\n",
    "for i in range(30):\n",
    "    fig.add_subplot(6, 5, i+1)\n",
    "    r = random.randint(0, len(y))\n",
    "    plt.imshow(cv2.imread(z[r]))\n",
    "    plt.axis('off')\n",
    "    plt.title(f\"T:{fruit_names[y[r]]}, P: {fruit_names[pred[r]]}\")\n",
    "    # print(f\"T:{fruit_names[y[-i]]}, P: {fruit_names[pred[-i]]}\")"
   ]
  }
 ],
 "metadata": {
  "kernelspec": {
   "display_name": "Python 3 (ipykernel)",
   "language": "python",
   "name": "python3"
  },
  "language_info": {
   "codemirror_mode": {
    "name": "ipython",
    "version": 3
   },
   "file_extension": ".py",
   "mimetype": "text/x-python",
   "name": "python",
   "nbconvert_exporter": "python",
   "pygments_lexer": "ipython3",
   "version": "3.9.11"
  }
 },
 "nbformat": 4,
 "nbformat_minor": 2
}
